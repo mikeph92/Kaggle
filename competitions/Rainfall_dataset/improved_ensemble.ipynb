{
 "cells": [
  {
   "cell_type": "markdown",
   "metadata": {},
   "source": [
    "# Rainfall Prediction Model\n",
    "\n",
    "This notebook implements a rainfall prediction model with the following enhancements:\n",
    "- **Class Imbalance Handling**: Uses SMOTE to oversample the minority class.\n",
    "- **Hyperparameter Tuning**: Expands parameter grids for Random Forest, Gradient Boosting, CatBoost, and MLPClassifier.\n",
    "- **Ensemble Diversification**: Includes a neural network (MLPClassifier) alongside other models.\n",
    "- **Data Leakage Prevention**: Fits preprocessing steps (scaling, PCA) only on training data.\n",
    "- **Distribution Shift Check**: Compares summary statistics between training and test sets.\n",
    "- **Temporal Patterns**: Adds lag features for rainfall and temperature from the previous day.\n",
    "\n",
    "Warnings are ignored, and predictions are not rounded in the final output."
   ]
  },
  {
   "cell_type": "code",
   "execution_count": 1,
   "metadata": {},
   "outputs": [],
   "source": [
    "# Import necessary libraries\n",
    "import pandas as pd\n",
    "import numpy as np\n",
    "from sklearn.model_selection import GridSearchCV, TimeSeriesSplit\n",
    "from sklearn.ensemble import RandomForestClassifier, GradientBoostingClassifier\n",
    "from sklearn.neural_network import MLPClassifier\n",
    "from catboost import CatBoostClassifier\n",
    "from imblearn.over_sampling import SMOTE\n",
    "from sklearn.decomposition import PCA\n",
    "from sklearn.preprocessing import StandardScaler\n",
    "import warnings\n",
    "warnings.filterwarnings('ignore')\n",
    "\n",
    "# Load train and test data\n",
    "train_data = pd.read_csv('data/train.csv')\n",
    "test_data = pd.read_csv('data/test.csv')"
   ]
  },
  {
   "cell_type": "markdown",
   "metadata": {},
   "source": [
    "check for missing data, fill NaN with bfill"
   ]
  },
  {
   "cell_type": "code",
   "execution_count": 2,
   "metadata": {},
   "outputs": [
    {
     "name": "stdout",
     "output_type": "stream",
     "text": [
      "Missing data in train_data:\n",
      " id               0\n",
      "day              0\n",
      "pressure         0\n",
      "maxtemp          0\n",
      "temparature      0\n",
      "mintemp          0\n",
      "dewpoint         0\n",
      "humidity         0\n",
      "cloud            0\n",
      "sunshine         0\n",
      "winddirection    0\n",
      "windspeed        0\n",
      "rainfall         0\n",
      "dtype: int64\n",
      "\n",
      "Missing data in test_data:\n",
      " id               0\n",
      "day              0\n",
      "pressure         0\n",
      "maxtemp          0\n",
      "temparature      0\n",
      "mintemp          0\n",
      "dewpoint         0\n",
      "humidity         0\n",
      "cloud            0\n",
      "sunshine         0\n",
      "winddirection    1\n",
      "windspeed        0\n",
      "dtype: int64\n",
      "\n",
      "Missing data in train_data after bfill:\n",
      " id               0\n",
      "day              0\n",
      "pressure         0\n",
      "maxtemp          0\n",
      "temparature      0\n",
      "mintemp          0\n",
      "dewpoint         0\n",
      "humidity         0\n",
      "cloud            0\n",
      "sunshine         0\n",
      "winddirection    0\n",
      "windspeed        0\n",
      "rainfall         0\n",
      "dtype: int64\n",
      "\n",
      "Missing data in test_data after bfill:\n",
      " id               0\n",
      "day              0\n",
      "pressure         0\n",
      "maxtemp          0\n",
      "temparature      0\n",
      "mintemp          0\n",
      "dewpoint         0\n",
      "humidity         0\n",
      "cloud            0\n",
      "sunshine         0\n",
      "winddirection    0\n",
      "windspeed        0\n",
      "dtype: int64\n"
     ]
    }
   ],
   "source": [
    "# Check for missing data\n",
    "print(\"Missing data in train_data:\\n\", train_data.isnull().sum())\n",
    "print(\"\\nMissing data in test_data:\\n\", test_data.isnull().sum())\n",
    "\n",
    "# Fill NaN values with backward fill\n",
    "train_data = train_data.bfill()\n",
    "test_data = test_data.bfill()\n",
    "\n",
    "# Verify if missing data is handled\n",
    "print(\"\\nMissing data in train_data after bfill:\\n\", train_data.isnull().sum())\n",
    "print(\"\\nMissing data in test_data after bfill:\\n\", test_data.isnull().sum())"
   ]
  },
  {
   "cell_type": "markdown",
   "metadata": {},
   "source": [
    "## Feature Engineering\n",
    "\n",
    "We add lag features to capture temporal patterns and apply cyclical transformations to relevant features."
   ]
  },
  {
   "cell_type": "code",
   "execution_count": 3,
   "metadata": {},
   "outputs": [],
   "source": [
    "# Feature engineering for cyclical features\n",
    "def create_cyclical_features(df, column, period):\n",
    "    df[f'{column}_sin'] = np.sin(2 * np.pi * df[column] / period)\n",
    "    df[f'{column}_cos'] = np.cos(2 * np.pi * df[column] / period)\n",
    "    return df\n",
    "\n",
    "# Apply cyclical transformations to 'day' and 'winddirection'\n",
    "train_data = create_cyclical_features(train_data, 'day', 365)\n",
    "test_data = create_cyclical_features(test_data, 'day', 365)\n",
    "train_data = create_cyclical_features(train_data, 'winddirection', 360)\n",
    "test_data = create_cyclical_features(test_data, 'winddirection', 360)\n",
    "\n",
    "# Drop original cyclical columns\n",
    "train_data = train_data.drop(['day', 'winddirection'], axis=1)\n",
    "test_data = test_data.drop(['day', 'winddirection'], axis=1)\n",
    "\n",
    "# Sort training data by 'id' for time-based consistency\n",
    "train_data = train_data.sort_values('id')\n",
    "\n",
    "# Add lag features for rainfall and temperature\n",
    "train_data['rainfall_lag1'] = train_data['rainfall'].shift(1)\n",
    "train_data['temparature_lag1'] = train_data['temparature'].shift(1)\n",
    "test_data['rainfall_lag1'] = np.nan  # Placeholder\n",
    "test_data['temparature_lag1'] = np.nan\n",
    "\n",
    "# Fill test lag features with last training values\n",
    "test_data['rainfall_lag1'].iloc[0] = train_data['rainfall'].iloc[-1]\n",
    "test_data['temparature_lag1'].iloc[0] = train_data['temparature'].iloc[-1]\n",
    "test_data['rainfall_lag1'] = test_data['rainfall_lag1'].ffill()\n",
    "test_data['temparature_lag1'] = test_data['temparature_lag1'].ffill()\n",
    "\n",
    "# Drop rows with NaN lag features in training data\n",
    "train_data = train_data.dropna()"
   ]
  },
  {
   "cell_type": "markdown",
   "metadata": {},
   "source": [
    "## Data Preparation\n",
    "\n",
    "Separate features and target, apply scaling and PCA, and prevent data leakage by fitting transformations only on training data."
   ]
  },
  {
   "cell_type": "code",
   "execution_count": 4,
   "metadata": {},
   "outputs": [],
   "source": [
    "# Separate features and target from training data\n",
    "X_train_full = train_data.drop(['id', 'rainfall'], axis=1)\n",
    "y_train_full = train_data['rainfall']\n",
    "\n",
    "# Prepare test features\n",
    "X_test = test_data.drop(['id'], axis=1)\n",
    "\n",
    "# Standardize features\n",
    "scaler = StandardScaler()\n",
    "X_train_scaled = scaler.fit_transform(X_train_full)\n",
    "X_test_scaled = scaler.transform(X_test)\n",
    "\n",
    "# Apply PCA for dimensionality reduction\n",
    "pca = PCA(n_components=0.95)  # Retain 95% variance\n",
    "X_train_pca = pca.fit_transform(X_train_scaled)\n",
    "X_test_pca = pca.transform(X_test_scaled)"
   ]
  },
  {
   "cell_type": "markdown",
   "metadata": {},
   "source": [
    "## Handle Class Imbalance\n",
    "\n",
    "Use SMOTE to balance the classes in the training data."
   ]
  },
  {
   "cell_type": "code",
   "execution_count": 5,
   "metadata": {},
   "outputs": [],
   "source": [
    "# Handle class imbalance with SMOTE\n",
    "smote = SMOTE(random_state=42)\n",
    "X_train_resampled, y_train_resampled = smote.fit_resample(X_train_pca, y_train_full)"
   ]
  },
  {
   "cell_type": "markdown",
   "metadata": {},
   "source": [
    "## Model Tuning and Training\n",
    "\n",
    "Define models, tune hyperparameters using GridSearchCV with TimeSeriesSplit, and train the final models."
   ]
  },
  {
   "cell_type": "code",
   "execution_count": 6,
   "metadata": {},
   "outputs": [
    {
     "name": "stdout",
     "output_type": "stream",
     "text": [
      "Best Random Forest parameters: {'max_depth': None, 'min_samples_split': 2, 'n_estimators': 100}\n",
      "Best Gradient Boosting parameters: {'learning_rate': 0.1, 'max_depth': 3, 'n_estimators': 100}\n",
      "Best CatBoost parameters: {'depth': 4, 'iterations': 100, 'learning_rate': 0.1}\n",
      "Best MLP parameters: {'alpha': 0.0001, 'hidden_layer_sizes': (50,)}\n"
     ]
    },
    {
     "data": {
      "text/html": [
       "<style>#sk-container-id-1 {color: black;background-color: white;}#sk-container-id-1 pre{padding: 0;}#sk-container-id-1 div.sk-toggleable {background-color: white;}#sk-container-id-1 label.sk-toggleable__label {cursor: pointer;display: block;width: 100%;margin-bottom: 0;padding: 0.3em;box-sizing: border-box;text-align: center;}#sk-container-id-1 label.sk-toggleable__label-arrow:before {content: \"▸\";float: left;margin-right: 0.25em;color: #696969;}#sk-container-id-1 label.sk-toggleable__label-arrow:hover:before {color: black;}#sk-container-id-1 div.sk-estimator:hover label.sk-toggleable__label-arrow:before {color: black;}#sk-container-id-1 div.sk-toggleable__content {max-height: 0;max-width: 0;overflow: hidden;text-align: left;background-color: #f0f8ff;}#sk-container-id-1 div.sk-toggleable__content pre {margin: 0.2em;color: black;border-radius: 0.25em;background-color: #f0f8ff;}#sk-container-id-1 input.sk-toggleable__control:checked~div.sk-toggleable__content {max-height: 200px;max-width: 100%;overflow: auto;}#sk-container-id-1 input.sk-toggleable__control:checked~label.sk-toggleable__label-arrow:before {content: \"▾\";}#sk-container-id-1 div.sk-estimator input.sk-toggleable__control:checked~label.sk-toggleable__label {background-color: #d4ebff;}#sk-container-id-1 div.sk-label input.sk-toggleable__control:checked~label.sk-toggleable__label {background-color: #d4ebff;}#sk-container-id-1 input.sk-hidden--visually {border: 0;clip: rect(1px 1px 1px 1px);clip: rect(1px, 1px, 1px, 1px);height: 1px;margin: -1px;overflow: hidden;padding: 0;position: absolute;width: 1px;}#sk-container-id-1 div.sk-estimator {font-family: monospace;background-color: #f0f8ff;border: 1px dotted black;border-radius: 0.25em;box-sizing: border-box;margin-bottom: 0.5em;}#sk-container-id-1 div.sk-estimator:hover {background-color: #d4ebff;}#sk-container-id-1 div.sk-parallel-item::after {content: \"\";width: 100%;border-bottom: 1px solid gray;flex-grow: 1;}#sk-container-id-1 div.sk-label:hover label.sk-toggleable__label {background-color: #d4ebff;}#sk-container-id-1 div.sk-serial::before {content: \"\";position: absolute;border-left: 1px solid gray;box-sizing: border-box;top: 0;bottom: 0;left: 50%;z-index: 0;}#sk-container-id-1 div.sk-serial {display: flex;flex-direction: column;align-items: center;background-color: white;padding-right: 0.2em;padding-left: 0.2em;position: relative;}#sk-container-id-1 div.sk-item {position: relative;z-index: 1;}#sk-container-id-1 div.sk-parallel {display: flex;align-items: stretch;justify-content: center;background-color: white;position: relative;}#sk-container-id-1 div.sk-item::before, #sk-container-id-1 div.sk-parallel-item::before {content: \"\";position: absolute;border-left: 1px solid gray;box-sizing: border-box;top: 0;bottom: 0;left: 50%;z-index: -1;}#sk-container-id-1 div.sk-parallel-item {display: flex;flex-direction: column;z-index: 1;position: relative;background-color: white;}#sk-container-id-1 div.sk-parallel-item:first-child::after {align-self: flex-end;width: 50%;}#sk-container-id-1 div.sk-parallel-item:last-child::after {align-self: flex-start;width: 50%;}#sk-container-id-1 div.sk-parallel-item:only-child::after {width: 0;}#sk-container-id-1 div.sk-dashed-wrapped {border: 1px dashed gray;margin: 0 0.4em 0.5em 0.4em;box-sizing: border-box;padding-bottom: 0.4em;background-color: white;}#sk-container-id-1 div.sk-label label {font-family: monospace;font-weight: bold;display: inline-block;line-height: 1.2em;}#sk-container-id-1 div.sk-label-container {text-align: center;}#sk-container-id-1 div.sk-container {/* jupyter's `normalize.less` sets `[hidden] { display: none; }` but bootstrap.min.css set `[hidden] { display: none !important; }` so we also need the `!important` here to be able to override the default hidden behavior on the sphinx rendered scikit-learn.org. See: https://github.com/scikit-learn/scikit-learn/issues/21755 */display: inline-block !important;position: relative;}#sk-container-id-1 div.sk-text-repr-fallback {display: none;}</style><div id=\"sk-container-id-1\" class=\"sk-top-container\"><div class=\"sk-text-repr-fallback\"><pre>MLPClassifier(hidden_layer_sizes=(50,), random_state=42)</pre><b>In a Jupyter environment, please rerun this cell to show the HTML representation or trust the notebook. <br />On GitHub, the HTML representation is unable to render, please try loading this page with nbviewer.org.</b></div><div class=\"sk-container\" hidden><div class=\"sk-item\"><div class=\"sk-estimator sk-toggleable\"><input class=\"sk-toggleable__control sk-hidden--visually\" id=\"sk-estimator-id-1\" type=\"checkbox\" checked><label for=\"sk-estimator-id-1\" class=\"sk-toggleable__label sk-toggleable__label-arrow\">MLPClassifier</label><div class=\"sk-toggleable__content\"><pre>MLPClassifier(hidden_layer_sizes=(50,), random_state=42)</pre></div></div></div></div></div>"
      ],
      "text/plain": [
       "MLPClassifier(hidden_layer_sizes=(50,), random_state=42)"
      ]
     },
     "execution_count": 6,
     "metadata": {},
     "output_type": "execute_result"
    }
   ],
   "source": [
    "# Define TimeSeriesSplit for cross-validation\n",
    "tscv = TimeSeriesSplit(n_splits=5)\n",
    "\n",
    "# Define base models\n",
    "rf = RandomForestClassifier(random_state=42)\n",
    "gb = GradientBoostingClassifier(random_state=42)\n",
    "catboost = CatBoostClassifier(verbose=0, random_state=42)\n",
    "mlp = MLPClassifier(random_state=42)\n",
    "\n",
    "# Expanded hyperparameter grids\n",
    "rf_param_grid = {\n",
    "    'n_estimators': [100, 200, 300],\n",
    "    'max_depth': [None, 10, 20, 30],\n",
    "    'min_samples_split': [2, 5, 10]\n",
    "}\n",
    "gb_param_grid = {\n",
    "    'n_estimators': [100, 200, 300],\n",
    "    'learning_rate': [0.1, 0.05, 0.01],\n",
    "    'max_depth': [3, 5, 7]\n",
    "}\n",
    "catboost_param_grid = {\n",
    "    'iterations': [100, 200, 300],\n",
    "    'learning_rate': [0.1, 0.05, 0.01],\n",
    "    'depth': [4, 6, 8, 10]\n",
    "}\n",
    "mlp_param_grid = {\n",
    "    'hidden_layer_sizes': [(50,), (100,), (50, 50)],\n",
    "    'alpha': [0.0001, 0.001, 0.01]\n",
    "}\n",
    "\n",
    "# Tune Random Forest\n",
    "rf_grid_search = GridSearchCV(rf, rf_param_grid, cv=tscv, scoring='roc_auc', n_jobs=-1)\n",
    "rf_grid_search.fit(X_train_resampled, y_train_resampled)\n",
    "best_rf_params = rf_grid_search.best_params_\n",
    "print('Best Random Forest parameters:', best_rf_params)\n",
    "\n",
    "# Tune Gradient Boosting\n",
    "gb_grid_search = GridSearchCV(gb, gb_param_grid, cv=tscv, scoring='roc_auc', n_jobs=-1)\n",
    "gb_grid_search.fit(X_train_resampled, y_train_resampled)\n",
    "best_gb_params = gb_grid_search.best_params_\n",
    "print('Best Gradient Boosting parameters:', best_gb_params)\n",
    "\n",
    "# Tune CatBoost\n",
    "catboost_grid_search = GridSearchCV(catboost, catboost_param_grid, cv=tscv, scoring='roc_auc', n_jobs=-1)\n",
    "catboost_grid_search.fit(X_train_resampled, y_train_resampled)\n",
    "best_catboost_params = catboost_grid_search.best_params_\n",
    "print('Best CatBoost parameters:', best_catboost_params)\n",
    "\n",
    "# Tune MLPClassifier\n",
    "mlp_grid_search = GridSearchCV(mlp, mlp_param_grid, cv=tscv, scoring='roc_auc', n_jobs=-1)\n",
    "mlp_grid_search.fit(X_train_resampled, y_train_resampled)\n",
    "best_mlp_params = mlp_grid_search.best_params_\n",
    "print('Best MLP parameters:', best_mlp_params)\n",
    "\n",
    "# Create and fit final models with best parameters\n",
    "final_rf = RandomForestClassifier(**best_rf_params, random_state=42)\n",
    "final_rf.fit(X_train_resampled, y_train_resampled)\n",
    "\n",
    "final_gb = GradientBoostingClassifier(**best_gb_params, random_state=42)\n",
    "final_gb.fit(X_train_resampled, y_train_resampled)\n",
    "\n",
    "final_catboost = CatBoostClassifier(**best_catboost_params, verbose=0, random_state=42)\n",
    "final_catboost.fit(X_train_resampled, y_train_resampled)\n",
    "\n",
    "final_mlp = MLPClassifier(**best_mlp_params, random_state=42)\n",
    "final_mlp.fit(X_train_resampled, y_train_resampled)"
   ]
  },
  {
   "cell_type": "markdown",
   "metadata": {},
   "source": [
    "## Ensemble Prediction\n",
    "\n",
    "Combine predictions from all models by averaging probabilities."
   ]
  },
  {
   "cell_type": "code",
   "execution_count": 7,
   "metadata": {},
   "outputs": [],
   "source": [
    "# Predict probabilities on test set for each model\n",
    "rf_prob = final_rf.predict_proba(X_test_pca)[:, 1]\n",
    "gb_prob = final_gb.predict_proba(X_test_pca)[:, 1]\n",
    "catboost_prob = final_catboost.predict_proba(X_test_pca)[:, 1]\n",
    "mlp_prob = final_mlp.predict_proba(X_test_pca)[:, 1]\n",
    "\n",
    "# Ensemble prediction by averaging probabilities\n",
    "y_pred_prob = (rf_prob + gb_prob + catboost_prob + mlp_prob) / 4\n",
    "\n",
    "# Create submission DataFrame\n",
    "submission = pd.DataFrame({\n",
    "    'id': test_data['id'],\n",
    "    'rainfall': y_pred_prob\n",
    "})\n",
    "\n",
    "# Save to CSV without rounding\n",
    "submission.to_csv('outputs/submission5.csv', index=False)"
   ]
  },
  {
   "cell_type": "markdown",
   "metadata": {},
   "source": [
    "## Distribution Shift Check\n",
    "\n",
    "Compare summary statistics between training and test sets to detect potential distribution shifts."
   ]
  },
  {
   "cell_type": "code",
   "execution_count": 8,
   "metadata": {},
   "outputs": [
    {
     "name": "stdout",
     "output_type": "stream",
     "text": [
      "\n",
      "Training set summary statistics:\n",
      "            pressure       maxtemp   temparature       mintemp      dewpoint  \\\n",
      "count  2.189000e+03  2.189000e+03  2.189000e+03  2.189000e+03  2.189000e+03   \n",
      "mean   4.690426e-15  7.530649e-16 -3.765325e-16  2.499397e-16  1.817743e-16   \n",
      "std    1.000228e+00  1.000228e+00  1.000228e+00  1.000228e+00  1.000228e+00   \n",
      "min   -2.581958e+00 -2.824597e+00 -3.170213e+00 -3.591922e+00 -3.924668e+00   \n",
      "25%   -8.842800e-01 -8.965033e-01 -8.913566e-01 -8.838165e-01 -6.911499e-01   \n",
      "50%   -1.061776e-01  2.532774e-01  2.959466e-01  3.417494e-01  3.299610e-01   \n",
      "75%    7.426614e-01  8.547012e-01  8.512981e-01  8.359292e-01  8.594259e-01   \n",
      "max    3.713598e+00  1.703770e+00  1.444950e+00  1.508014e+00  1.180887e+00   \n",
      "\n",
      "           humidity         cloud      sunshine     windspeed       day_sin  \\\n",
      "count  2.189000e+03  2.189000e+03  2.189000e+03  2.189000e+03  2.189000e+03   \n",
      "mean   6.995064e-16 -3.083671e-16 -9.088715e-17 -3.635486e-16  3.895163e-17   \n",
      "std    1.000228e+00  1.000228e+00  1.000228e+00  1.000228e+00  1.000228e+00   \n",
      "min   -5.517261e+00 -4.089764e+00 -1.033027e+00 -1.758589e+00 -1.431698e+00   \n",
      "25%   -6.454239e-01 -3.726193e-01 -9.227089e-01 -7.786093e-01 -9.987041e-01   \n",
      "50%   -4.392631e-03  4.040975e-01 -3.711196e-01 -1.320251e-01  4.076467e-02   \n",
      "75%    7.648449e-01  6.814964e-01  8.423769e-01  6.155879e-01  1.001625e+00   \n",
      "max    2.046907e+00  1.347254e+00  2.304089e+00  3.808097e+00  1.391755e+00   \n",
      "\n",
      "            day_cos  winddirection_sin  winddirection_cos  rainfall_lag1  \\\n",
      "count  2.189000e+03       2.189000e+03       2.189000e+03   2.189000e+03   \n",
      "mean   2.596776e-17      -2.596776e-17       4.544357e-17   1.444456e-16   \n",
      "std    1.000228e+00       1.000228e+00       1.000228e+00   1.000228e+00   \n",
      "min   -1.412440e+00      -2.039584e+00      -1.721545e+00  -1.747485e+00   \n",
      "25%   -9.996171e-01      -1.031349e+00      -1.184963e+00   5.722510e-01   \n",
      "50%   -1.378737e-02       4.776899e-01       2.943535e-01   5.722510e-01   \n",
      "75%    9.999876e-01       8.197613e-01       9.312962e-01   5.722510e-01   \n",
      "max    1.421506e+00       1.025053e+00       1.259909e+00   5.722510e-01   \n",
      "\n",
      "       temparature_lag1  \n",
      "count      2.189000e+03  \n",
      "mean      -2.012501e-16  \n",
      "std        1.000228e+00  \n",
      "min       -3.170671e+00  \n",
      "25%       -8.915798e-01  \n",
      "50%        2.958459e-01  \n",
      "75%        8.512547e-01  \n",
      "max        1.444968e+00  \n",
      "\n",
      "Test set summary statistics:\n",
      "          pressure     maxtemp  temparature     mintemp    dewpoint  \\\n",
      "count  730.000000  730.000000   730.000000  730.000000  730.000000   \n",
      "mean    -0.017224    0.000762     0.001665   -0.012029    0.000962   \n",
      "std      0.973666    1.003409     1.010759    1.022111    1.019441   \n",
      "min     -2.405116   -3.355265    -3.457464   -3.552388   -3.867939   \n",
      "25%     -0.862175   -0.843437    -0.790819   -0.859108   -0.691150   \n",
      "50%     -0.159230    0.253277     0.324672    0.341749    0.348870   \n",
      "75%      0.707293    0.819323     0.846511    0.835929    0.859426   \n",
      "max      3.289178    1.668392     1.502400    1.369643    1.180887   \n",
      "\n",
      "         humidity       cloud    sunshine   windspeed     day_sin     day_cos  \\\n",
      "count  730.000000  730.000000  730.000000  730.000000  730.000000  730.000000   \n",
      "mean     0.081488    0.035727   -0.022409    0.068441   -0.019972    0.004507   \n",
      "std      1.002408    0.994981    1.003692    1.005719    0.998935    1.002657   \n",
      "min     -5.517261   -4.200724   -1.033027   -1.748486   -1.431698   -1.412440   \n",
      "25%     -0.613372   -0.372619   -0.943393   -0.738198   -1.016072   -0.999617   \n",
      "50%     -0.004393    0.404098   -0.426279   -0.051202   -0.019972    0.010605   \n",
      "75%      0.893051    0.681496    0.807903    0.666102    0.976129    0.999988   \n",
      "max      2.046907    1.347254    2.221350    3.808097    1.391755    1.421506   \n",
      "\n",
      "       winddirection_sin  winddirection_cos  rainfall_lag1  temparature_lag1  \n",
      "count         730.000000         730.000000   7.300000e+02      7.300000e+02  \n",
      "mean           -0.028740           0.042723   5.722510e-01     -9.298839e-01  \n",
      "std             1.009786           0.995215   4.888331e-15      2.221968e-16  \n",
      "min            -2.039584          -1.721545   5.722510e-01     -9.298839e-01  \n",
      "25%            -1.031349          -1.184963   5.722510e-01     -9.298839e-01  \n",
      "50%             0.477690           0.294354   5.722510e-01     -9.298839e-01  \n",
      "75%             0.819761           0.931296   5.722510e-01     -9.298839e-01  \n",
      "max             1.025053           1.259909   5.722510e-01     -9.298839e-01  \n"
     ]
    }
   ],
   "source": [
    "# Check for distribution shifts\n",
    "print('\\nTraining set summary statistics:\\n', pd.DataFrame(X_train_scaled, columns=X_train_full.columns).describe())\n",
    "print('\\nTest set summary statistics:\\n', pd.DataFrame(X_test_scaled, columns=X_train_full.columns).describe())"
   ]
  }
 ],
 "metadata": {
  "kernelspec": {
   "display_name": "base",
   "language": "python",
   "name": "python3"
  },
  "language_info": {
   "codemirror_mode": {
    "name": "ipython",
    "version": 3
   },
   "file_extension": ".py",
   "mimetype": "text/x-python",
   "name": "python",
   "nbconvert_exporter": "python",
   "pygments_lexer": "ipython3",
   "version": "3.11.5"
  }
 },
 "nbformat": 4,
 "nbformat_minor": 4
}
