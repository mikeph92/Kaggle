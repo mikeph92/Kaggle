{
 "cells": [
  {
   "cell_type": "code",
   "execution_count": 2,
   "metadata": {},
   "outputs": [],
   "source": [
    "import pandas as pd\n",
    "import numpy as np\n",
    "\n",
    "\n",
    "# Load the datasets\n",
    "# train_data = pd.read_csv('data/train.csv')\n",
    "rainfall_df = pd.read_csv('data/rainfall.csv')\n",
    "\n",
    "# # Analyze the distribution of columns in train.csv\n",
    "# print(\"Train Data Distribution:\")\n",
    "# print(train_data.describe(include='all'))\n",
    "\n",
    "# # Analyze the distribution of columns in rainfall.csv\n",
    "# print(\"\\nRainfall Data Distribution:\")\n",
    "# print(rainfall_data.describe(include='all'))"
   ]
  },
  {
   "cell_type": "code",
   "execution_count": 3,
   "metadata": {},
   "outputs": [],
   "source": [
    "#transform rainfall data\n",
    "rainfall_df['rainfall'] = rainfall_df['rainfall'].map({'yes': 1, 'no': 0})\n",
    "rainfall_df['day'] = np.arange(1, 367)\n",
    "rainfall_df.to_csv('data/rainfall_transformed.csv', index=True)"
   ]
  }
 ],
 "metadata": {
  "kernelspec": {
   "display_name": "base",
   "language": "python",
   "name": "python3"
  },
  "language_info": {
   "codemirror_mode": {
    "name": "ipython",
    "version": 3
   },
   "file_extension": ".py",
   "mimetype": "text/x-python",
   "name": "python",
   "nbconvert_exporter": "python",
   "pygments_lexer": "ipython3",
   "version": "3.11.5"
  }
 },
 "nbformat": 4,
 "nbformat_minor": 2
}
