{
 "cells": [
  {
   "cell_type": "code",
   "execution_count": 3,
   "metadata": {},
   "outputs": [
    {
     "data": {
      "text/html": [
       "<div>\n",
       "<style scoped>\n",
       "    .dataframe tbody tr th:only-of-type {\n",
       "        vertical-align: middle;\n",
       "    }\n",
       "\n",
       "    .dataframe tbody tr th {\n",
       "        vertical-align: top;\n",
       "    }\n",
       "\n",
       "    .dataframe thead th {\n",
       "        text-align: right;\n",
       "    }\n",
       "</style>\n",
       "<table border=\"1\" class=\"dataframe\">\n",
       "  <thead>\n",
       "    <tr style=\"text-align: right;\">\n",
       "      <th></th>\n",
       "      <th>id</th>\n",
       "      <th>day</th>\n",
       "      <th>pressure</th>\n",
       "      <th>maxtemp</th>\n",
       "      <th>temparature</th>\n",
       "      <th>mintemp</th>\n",
       "      <th>dewpoint</th>\n",
       "      <th>humidity</th>\n",
       "      <th>cloud</th>\n",
       "      <th>sunshine</th>\n",
       "      <th>winddirection</th>\n",
       "      <th>windspeed</th>\n",
       "      <th>rainfall</th>\n",
       "    </tr>\n",
       "  </thead>\n",
       "  <tbody>\n",
       "    <tr>\n",
       "      <th>0</th>\n",
       "      <td>0</td>\n",
       "      <td>1</td>\n",
       "      <td>1017.4</td>\n",
       "      <td>21.2</td>\n",
       "      <td>20.6</td>\n",
       "      <td>19.9</td>\n",
       "      <td>19.4</td>\n",
       "      <td>87.0</td>\n",
       "      <td>88.0</td>\n",
       "      <td>1.1</td>\n",
       "      <td>60.0</td>\n",
       "      <td>17.2</td>\n",
       "      <td>1</td>\n",
       "    </tr>\n",
       "    <tr>\n",
       "      <th>1</th>\n",
       "      <td>1</td>\n",
       "      <td>2</td>\n",
       "      <td>1019.5</td>\n",
       "      <td>16.2</td>\n",
       "      <td>16.9</td>\n",
       "      <td>15.8</td>\n",
       "      <td>15.4</td>\n",
       "      <td>95.0</td>\n",
       "      <td>91.0</td>\n",
       "      <td>0.0</td>\n",
       "      <td>50.0</td>\n",
       "      <td>21.9</td>\n",
       "      <td>1</td>\n",
       "    </tr>\n",
       "    <tr>\n",
       "      <th>2</th>\n",
       "      <td>2</td>\n",
       "      <td>3</td>\n",
       "      <td>1024.1</td>\n",
       "      <td>19.4</td>\n",
       "      <td>16.1</td>\n",
       "      <td>14.6</td>\n",
       "      <td>9.3</td>\n",
       "      <td>75.0</td>\n",
       "      <td>47.0</td>\n",
       "      <td>8.3</td>\n",
       "      <td>70.0</td>\n",
       "      <td>18.1</td>\n",
       "      <td>1</td>\n",
       "    </tr>\n",
       "    <tr>\n",
       "      <th>3</th>\n",
       "      <td>3</td>\n",
       "      <td>4</td>\n",
       "      <td>1013.4</td>\n",
       "      <td>18.1</td>\n",
       "      <td>17.8</td>\n",
       "      <td>16.9</td>\n",
       "      <td>16.8</td>\n",
       "      <td>95.0</td>\n",
       "      <td>95.0</td>\n",
       "      <td>0.0</td>\n",
       "      <td>60.0</td>\n",
       "      <td>35.6</td>\n",
       "      <td>1</td>\n",
       "    </tr>\n",
       "    <tr>\n",
       "      <th>4</th>\n",
       "      <td>4</td>\n",
       "      <td>5</td>\n",
       "      <td>1021.8</td>\n",
       "      <td>21.3</td>\n",
       "      <td>18.4</td>\n",
       "      <td>15.2</td>\n",
       "      <td>9.6</td>\n",
       "      <td>52.0</td>\n",
       "      <td>45.0</td>\n",
       "      <td>3.6</td>\n",
       "      <td>40.0</td>\n",
       "      <td>24.8</td>\n",
       "      <td>0</td>\n",
       "    </tr>\n",
       "  </tbody>\n",
       "</table>\n",
       "</div>"
      ],
      "text/plain": [
       "   id  day  pressure  maxtemp  temparature  mintemp  dewpoint  humidity  \\\n",
       "0   0    1    1017.4     21.2         20.6     19.9      19.4      87.0   \n",
       "1   1    2    1019.5     16.2         16.9     15.8      15.4      95.0   \n",
       "2   2    3    1024.1     19.4         16.1     14.6       9.3      75.0   \n",
       "3   3    4    1013.4     18.1         17.8     16.9      16.8      95.0   \n",
       "4   4    5    1021.8     21.3         18.4     15.2       9.6      52.0   \n",
       "\n",
       "   cloud  sunshine  winddirection  windspeed  rainfall  \n",
       "0   88.0       1.1           60.0       17.2         1  \n",
       "1   91.0       0.0           50.0       21.9         1  \n",
       "2   47.0       8.3           70.0       18.1         1  \n",
       "3   95.0       0.0           60.0       35.6         1  \n",
       "4   45.0       3.6           40.0       24.8         0  "
      ]
     },
     "execution_count": 3,
     "metadata": {},
     "output_type": "execute_result"
    }
   ],
   "source": [
    "import pandas as pd\n",
    "\n",
    "# Load data from 'data/train.csv'\n",
    "data = pd.read_csv('data/train.csv')\n",
    "\n",
    "# Display the first few rows of the dataset\n",
    "data.head()"
   ]
  },
  {
   "cell_type": "code",
   "execution_count": 4,
   "metadata": {},
   "outputs": [
    {
     "name": "stdout",
     "output_type": "stream",
     "text": [
      "\n",
      "Summary Statistics:\n",
      "                id          day     pressure      maxtemp  temparature  \\\n",
      "count  2190.000000  2190.000000  2190.000000  2190.000000  2190.000000   \n",
      "mean   1094.500000   179.948402  1013.602146    26.365799    23.953059   \n",
      "std     632.342866   105.203592     5.655366     5.654330     5.222410   \n",
      "min       0.000000     1.000000   999.000000    10.400000     7.400000   \n",
      "25%     547.250000    89.000000  1008.600000    21.300000    19.300000   \n",
      "50%    1094.500000   178.500000  1013.000000    27.800000    25.500000   \n",
      "75%    1641.750000   270.000000  1017.775000    31.200000    28.400000   \n",
      "max    2189.000000   365.000000  1034.600000    36.000000    31.500000   \n",
      "\n",
      "           mintemp     dewpoint     humidity        cloud     sunshine  \\\n",
      "count  2190.000000  2190.000000  2190.000000  2190.000000  2190.000000   \n",
      "mean     22.170091    20.454566    82.036530    75.721918     3.744429   \n",
      "std       5.059120     5.288406     7.800654    18.026498     3.626327   \n",
      "min       4.000000    -0.300000    39.000000     2.000000     0.000000   \n",
      "25%      17.700000    16.800000    77.000000    69.000000     0.400000   \n",
      "50%      23.850000    22.150000    82.000000    83.000000     2.400000   \n",
      "75%      26.400000    25.000000    88.000000    88.000000     6.800000   \n",
      "max      29.800000    26.700000    98.000000   100.000000    12.100000   \n",
      "\n",
      "       winddirection    windspeed     rainfall  \n",
      "count    2190.000000  2190.000000  2190.000000  \n",
      "mean      104.863151    21.804703     0.753425  \n",
      "std        80.002416     9.898659     0.431116  \n",
      "min        10.000000     4.400000     0.000000  \n",
      "25%        40.000000    14.125000     1.000000  \n",
      "50%        70.000000    20.500000     1.000000  \n",
      "75%       200.000000    27.900000     1.000000  \n",
      "max       300.000000    59.500000     1.000000  \n"
     ]
    }
   ],
   "source": [
    "# Display summary statistics for numerical columns\n",
    "print(\"\\nSummary Statistics:\")\n",
    "print(data.describe())"
   ]
  },
  {
   "cell_type": "code",
   "execution_count": 5,
   "metadata": {},
   "outputs": [
    {
     "name": "stdout",
     "output_type": "stream",
     "text": [
      "\n",
      "Missing Values:\n",
      "id               0\n",
      "day              0\n",
      "pressure         0\n",
      "maxtemp          0\n",
      "temparature      0\n",
      "mintemp          0\n",
      "dewpoint         0\n",
      "humidity         0\n",
      "cloud            0\n",
      "sunshine         0\n",
      "winddirection    0\n",
      "windspeed        0\n",
      "rainfall         0\n",
      "dtype: int64\n"
     ]
    }
   ],
   "source": [
    "# Check for missing values\n",
    "print(\"\\nMissing Values:\")\n",
    "print(data.isnull().sum())"
   ]
  },
  {
   "cell_type": "code",
   "execution_count": 6,
   "metadata": {},
   "outputs": [
    {
     "name": "stdout",
     "output_type": "stream",
     "text": [
      "\n",
      "First Few Rows:\n",
      "   id  day  pressure  maxtemp  temparature  mintemp  dewpoint  humidity  \\\n",
      "0   0    1    1017.4     21.2         20.6     19.9      19.4      87.0   \n",
      "1   1    2    1019.5     16.2         16.9     15.8      15.4      95.0   \n",
      "2   2    3    1024.1     19.4         16.1     14.6       9.3      75.0   \n",
      "3   3    4    1013.4     18.1         17.8     16.9      16.8      95.0   \n",
      "4   4    5    1021.8     21.3         18.4     15.2       9.6      52.0   \n",
      "\n",
      "   cloud  sunshine  winddirection  windspeed  rainfall  \n",
      "0   88.0       1.1           60.0       17.2         1  \n",
      "1   91.0       0.0           50.0       21.9         1  \n",
      "2   47.0       8.3           70.0       18.1         1  \n",
      "3   95.0       0.0           60.0       35.6         1  \n",
      "4   45.0       3.6           40.0       24.8         0  \n"
     ]
    }
   ],
   "source": [
    "\n",
    "# Display the first few rows of the dataset\n",
    "print(\"\\nFirst Few Rows:\")\n",
    "print(data.head())\n"
   ]
  },
  {
   "cell_type": "code",
   "execution_count": 7,
   "metadata": {},
   "outputs": [
    {
     "name": "stdout",
     "output_type": "stream",
     "text": [
      "\n",
      "Column Names:\n",
      "['id', 'day', 'pressure', 'maxtemp', 'temparature', 'mintemp', 'dewpoint', 'humidity', 'cloud', 'sunshine', 'winddirection', 'windspeed', 'rainfall']\n"
     ]
    }
   ],
   "source": [
    "# Display the column names\n",
    "print(\"\\nColumn Names:\")\n",
    "print(data.columns.tolist())"
   ]
  },
  {
   "cell_type": "code",
   "execution_count": 2,
   "metadata": {},
   "outputs": [],
   "source": [
    "# Drop columns 'id' and 'day', and set 'rainfall' as the label column\n",
    "X = data.drop(columns=['id', 'day', 'rainfall'])\n",
    "y = data['rainfall']\n"
   ]
  },
  {
   "cell_type": "code",
   "execution_count": null,
   "metadata": {},
   "outputs": [],
   "source": []
  }
 ],
 "metadata": {
  "kernelspec": {
   "display_name": "base",
   "language": "python",
   "name": "python3"
  },
  "language_info": {
   "codemirror_mode": {
    "name": "ipython",
    "version": 3
   },
   "file_extension": ".py",
   "mimetype": "text/x-python",
   "name": "python",
   "nbconvert_exporter": "python",
   "pygments_lexer": "ipython3",
   "version": "3.11.5"
  }
 },
 "nbformat": 4,
 "nbformat_minor": 2
}
